{
  "cells": [
    {
      "cell_type": "markdown",
      "id": "624aa164-72eb-4dd2-988d-b07e3433740f",
      "metadata": {
        "id": "624aa164-72eb-4dd2-988d-b07e3433740f"
      },
      "source": [
        "## Building Project with Agent"
      ]
    },
    {
      "cell_type": "code",
      "source": [
        "!pip install langgraph langchain langchain-community langchain-openai python-dotenv langgraph-checkpoint-sqlite tavily-python langchain-tavily"
      ],
      "metadata": {
        "colab": {
          "base_uri": "https://localhost:8080/"
        },
        "id": "Iw071EplkaQN",
        "outputId": "b7ecf4cf-217e-4335-b94c-cc7d13edd0e8"
      },
      "id": "Iw071EplkaQN",
      "execution_count": 3,
      "outputs": [
        {
          "output_type": "stream",
          "name": "stdout",
          "text": [
            "Requirement already satisfied: langgraph in /usr/local/lib/python3.11/dist-packages (0.4.1)\n",
            "Requirement already satisfied: langchain in /usr/local/lib/python3.11/dist-packages (0.3.24)\n",
            "Requirement already satisfied: langchain-community in /usr/local/lib/python3.11/dist-packages (0.3.23)\n",
            "Requirement already satisfied: langchain-openai in /usr/local/lib/python3.11/dist-packages (0.3.16)\n",
            "Requirement already satisfied: python-dotenv in /usr/local/lib/python3.11/dist-packages (1.1.0)\n",
            "Requirement already satisfied: langgraph-checkpoint-sqlite in /usr/local/lib/python3.11/dist-packages (2.0.7)\n",
            "Requirement already satisfied: tavily-python in /usr/local/lib/python3.11/dist-packages (0.7.1)\n",
            "Collecting langchain-tavily\n",
            "  Downloading langchain_tavily-0.1.6-py3-none-any.whl.metadata (11 kB)\n",
            "Requirement already satisfied: langchain-core>=0.1 in /usr/local/lib/python3.11/dist-packages (from langgraph) (0.3.58)\n",
            "Requirement already satisfied: langgraph-checkpoint<3.0.0,>=2.0.10 in /usr/local/lib/python3.11/dist-packages (from langgraph) (2.0.25)\n",
            "Requirement already satisfied: langgraph-prebuilt>=0.1.8 in /usr/local/lib/python3.11/dist-packages (from langgraph) (0.1.8)\n",
            "Requirement already satisfied: langgraph-sdk>=0.1.42 in /usr/local/lib/python3.11/dist-packages (from langgraph) (0.1.66)\n",
            "Requirement already satisfied: pydantic>=2.7.4 in /usr/local/lib/python3.11/dist-packages (from langgraph) (2.11.3)\n",
            "Requirement already satisfied: xxhash<4.0.0,>=3.5.0 in /usr/local/lib/python3.11/dist-packages (from langgraph) (3.5.0)\n",
            "Requirement already satisfied: langchain-text-splitters<1.0.0,>=0.3.8 in /usr/local/lib/python3.11/dist-packages (from langchain) (0.3.8)\n",
            "Requirement already satisfied: langsmith<0.4,>=0.1.17 in /usr/local/lib/python3.11/dist-packages (from langchain) (0.3.38)\n",
            "Requirement already satisfied: SQLAlchemy<3,>=1.4 in /usr/local/lib/python3.11/dist-packages (from langchain) (2.0.40)\n",
            "Requirement already satisfied: requests<3,>=2 in /usr/local/lib/python3.11/dist-packages (from langchain) (2.32.3)\n",
            "Requirement already satisfied: PyYAML>=5.3 in /usr/local/lib/python3.11/dist-packages (from langchain) (6.0.2)\n",
            "Requirement already satisfied: aiohttp<4.0.0,>=3.8.3 in /usr/local/lib/python3.11/dist-packages (from langchain-community) (3.11.15)\n",
            "Requirement already satisfied: tenacity!=8.4.0,<10,>=8.1.0 in /usr/local/lib/python3.11/dist-packages (from langchain-community) (9.1.2)\n",
            "Requirement already satisfied: dataclasses-json<0.7,>=0.5.7 in /usr/local/lib/python3.11/dist-packages (from langchain-community) (0.6.7)\n",
            "Requirement already satisfied: pydantic-settings<3.0.0,>=2.4.0 in /usr/local/lib/python3.11/dist-packages (from langchain-community) (2.9.1)\n",
            "Requirement already satisfied: httpx-sse<1.0.0,>=0.4.0 in /usr/local/lib/python3.11/dist-packages (from langchain-community) (0.4.0)\n",
            "Requirement already satisfied: numpy>=1.26.2 in /usr/local/lib/python3.11/dist-packages (from langchain-community) (2.0.2)\n",
            "Requirement already satisfied: openai<2.0.0,>=1.68.2 in /usr/local/lib/python3.11/dist-packages (from langchain-openai) (1.76.0)\n",
            "Requirement already satisfied: tiktoken<1,>=0.7 in /usr/local/lib/python3.11/dist-packages (from langchain-openai) (0.9.0)\n",
            "Requirement already satisfied: aiosqlite<0.22,>=0.20 in /usr/local/lib/python3.11/dist-packages (from langgraph-checkpoint-sqlite) (0.21.0)\n",
            "Requirement already satisfied: httpx in /usr/local/lib/python3.11/dist-packages (from tavily-python) (0.28.1)\n",
            "Collecting mypy<2.0.0,>=1.15.0 (from langchain-tavily)\n",
            "  Downloading mypy-1.15.0-cp311-cp311-manylinux_2_17_x86_64.manylinux2014_x86_64.manylinux_2_28_x86_64.whl.metadata (2.1 kB)\n",
            "Requirement already satisfied: aiohappyeyeballs>=2.3.0 in /usr/local/lib/python3.11/dist-packages (from aiohttp<4.0.0,>=3.8.3->langchain-community) (2.6.1)\n",
            "Requirement already satisfied: aiosignal>=1.1.2 in /usr/local/lib/python3.11/dist-packages (from aiohttp<4.0.0,>=3.8.3->langchain-community) (1.3.2)\n",
            "Requirement already satisfied: attrs>=17.3.0 in /usr/local/lib/python3.11/dist-packages (from aiohttp<4.0.0,>=3.8.3->langchain-community) (25.3.0)\n",
            "Requirement already satisfied: frozenlist>=1.1.1 in /usr/local/lib/python3.11/dist-packages (from aiohttp<4.0.0,>=3.8.3->langchain-community) (1.6.0)\n",
            "Requirement already satisfied: multidict<7.0,>=4.5 in /usr/local/lib/python3.11/dist-packages (from aiohttp<4.0.0,>=3.8.3->langchain-community) (6.4.3)\n",
            "Requirement already satisfied: propcache>=0.2.0 in /usr/local/lib/python3.11/dist-packages (from aiohttp<4.0.0,>=3.8.3->langchain-community) (0.3.1)\n",
            "Requirement already satisfied: yarl<2.0,>=1.17.0 in /usr/local/lib/python3.11/dist-packages (from aiohttp<4.0.0,>=3.8.3->langchain-community) (1.20.0)\n",
            "Requirement already satisfied: typing_extensions>=4.0 in /usr/local/lib/python3.11/dist-packages (from aiosqlite<0.22,>=0.20->langgraph-checkpoint-sqlite) (4.13.2)\n",
            "Requirement already satisfied: marshmallow<4.0.0,>=3.18.0 in /usr/local/lib/python3.11/dist-packages (from dataclasses-json<0.7,>=0.5.7->langchain-community) (3.26.1)\n",
            "Requirement already satisfied: typing-inspect<1,>=0.4.0 in /usr/local/lib/python3.11/dist-packages (from dataclasses-json<0.7,>=0.5.7->langchain-community) (0.9.0)\n",
            "Requirement already satisfied: jsonpatch<2.0,>=1.33 in /usr/local/lib/python3.11/dist-packages (from langchain-core>=0.1->langgraph) (1.33)\n",
            "Requirement already satisfied: packaging<25,>=23.2 in /usr/local/lib/python3.11/dist-packages (from langchain-core>=0.1->langgraph) (24.2)\n",
            "Requirement already satisfied: ormsgpack<2.0.0,>=1.8.0 in /usr/local/lib/python3.11/dist-packages (from langgraph-checkpoint<3.0.0,>=2.0.10->langgraph) (1.9.1)\n",
            "Requirement already satisfied: orjson>=3.10.1 in /usr/local/lib/python3.11/dist-packages (from langgraph-sdk>=0.1.42->langgraph) (3.10.17)\n",
            "Requirement already satisfied: anyio in /usr/local/lib/python3.11/dist-packages (from httpx->tavily-python) (4.9.0)\n",
            "Requirement already satisfied: certifi in /usr/local/lib/python3.11/dist-packages (from httpx->tavily-python) (2025.4.26)\n",
            "Requirement already satisfied: httpcore==1.* in /usr/local/lib/python3.11/dist-packages (from httpx->tavily-python) (1.0.9)\n",
            "Requirement already satisfied: idna in /usr/local/lib/python3.11/dist-packages (from httpx->tavily-python) (3.10)\n",
            "Requirement already satisfied: h11>=0.16 in /usr/local/lib/python3.11/dist-packages (from httpcore==1.*->httpx->tavily-python) (0.16.0)\n",
            "Requirement already satisfied: requests-toolbelt<2.0.0,>=1.0.0 in /usr/local/lib/python3.11/dist-packages (from langsmith<0.4,>=0.1.17->langchain) (1.0.0)\n",
            "Requirement already satisfied: zstandard<0.24.0,>=0.23.0 in /usr/local/lib/python3.11/dist-packages (from langsmith<0.4,>=0.1.17->langchain) (0.23.0)\n",
            "Requirement already satisfied: mypy_extensions>=1.0.0 in /usr/local/lib/python3.11/dist-packages (from mypy<2.0.0,>=1.15.0->langchain-tavily) (1.1.0)\n",
            "Requirement already satisfied: distro<2,>=1.7.0 in /usr/local/lib/python3.11/dist-packages (from openai<2.0.0,>=1.68.2->langchain-openai) (1.9.0)\n",
            "Requirement already satisfied: jiter<1,>=0.4.0 in /usr/local/lib/python3.11/dist-packages (from openai<2.0.0,>=1.68.2->langchain-openai) (0.9.0)\n",
            "Requirement already satisfied: sniffio in /usr/local/lib/python3.11/dist-packages (from openai<2.0.0,>=1.68.2->langchain-openai) (1.3.1)\n",
            "Requirement already satisfied: tqdm>4 in /usr/local/lib/python3.11/dist-packages (from openai<2.0.0,>=1.68.2->langchain-openai) (4.67.1)\n",
            "Requirement already satisfied: annotated-types>=0.6.0 in /usr/local/lib/python3.11/dist-packages (from pydantic>=2.7.4->langgraph) (0.7.0)\n",
            "Requirement already satisfied: pydantic-core==2.33.1 in /usr/local/lib/python3.11/dist-packages (from pydantic>=2.7.4->langgraph) (2.33.1)\n",
            "Requirement already satisfied: typing-inspection>=0.4.0 in /usr/local/lib/python3.11/dist-packages (from pydantic>=2.7.4->langgraph) (0.4.0)\n",
            "Requirement already satisfied: charset-normalizer<4,>=2 in /usr/local/lib/python3.11/dist-packages (from requests<3,>=2->langchain) (3.4.1)\n",
            "Requirement already satisfied: urllib3<3,>=1.21.1 in /usr/local/lib/python3.11/dist-packages (from requests<3,>=2->langchain) (2.4.0)\n",
            "Requirement already satisfied: greenlet>=1 in /usr/local/lib/python3.11/dist-packages (from SQLAlchemy<3,>=1.4->langchain) (3.2.1)\n",
            "Requirement already satisfied: regex>=2022.1.18 in /usr/local/lib/python3.11/dist-packages (from tiktoken<1,>=0.7->langchain-openai) (2024.11.6)\n",
            "Requirement already satisfied: jsonpointer>=1.9 in /usr/local/lib/python3.11/dist-packages (from jsonpatch<2.0,>=1.33->langchain-core>=0.1->langgraph) (3.0.0)\n",
            "Downloading langchain_tavily-0.1.6-py3-none-any.whl (14 kB)\n",
            "Downloading mypy-1.15.0-cp311-cp311-manylinux_2_17_x86_64.manylinux2014_x86_64.manylinux_2_28_x86_64.whl (12.3 MB)\n",
            "\u001b[2K   \u001b[90m━━━━━━━━━━━━━━━━━━━━━━━━━━━━━━━━━━━━━━━━\u001b[0m \u001b[32m12.3/12.3 MB\u001b[0m \u001b[31m31.3 MB/s\u001b[0m eta \u001b[36m0:00:00\u001b[0m\n",
            "\u001b[?25hInstalling collected packages: mypy, langchain-tavily\n",
            "Successfully installed langchain-tavily-0.1.6 mypy-1.15.0\n"
          ]
        }
      ]
    },
    {
      "cell_type": "code",
      "execution_count": 2,
      "id": "2d58d26c-a751-41e2-baf9-280a03f2436e",
      "metadata": {
        "id": "2d58d26c-a751-41e2-baf9-280a03f2436e"
      },
      "outputs": [],
      "source": [
        "import os\n",
        "import operator\n",
        "from typing import TypedDict, Annotated, List\n",
        "\n",
        "from langgraph.graph import StateGraph, END\n",
        "from langgraph.checkpoint.memory import MemorySaver\n",
        "\n",
        "from langchain_core.messages import AnyMessage, SystemMessage, HumanMessage, AIMessage, ChatMessage\n",
        "from pydantic import BaseModel\n",
        "from langchain_openai import ChatOpenAI\n",
        "from tavily import TavilyClient\n",
        "\n",
        "from IPython.display import Image, Markdown\n",
        "from dotenv import load_dotenv\n",
        "\n",
        "# load the .env file\n",
        "load_dotenv('.env')\n",
        "\n",
        "TAVILY_API_KEY = os.environ['TAVILY_API_KEY']\n",
        "TOGETHER_API_KEY = os.environ['TOGETHER_API_KEY']"
      ]
    },
    {
      "cell_type": "code",
      "execution_count": 5,
      "id": "76c19c9f-b3b9-4f9b-9f3e-13ecb88f28dc",
      "metadata": {
        "id": "76c19c9f-b3b9-4f9b-9f3e-13ecb88f28dc"
      },
      "outputs": [],
      "source": [
        "# To allow agent to have multi-turn conversations.\n",
        "# LangGraph provides persistent checkpointing. If\n",
        "# we provide checkpointer when compiling the graph and thread_id\n",
        "# when calling the graph, LangGraph automatically saves the state\n",
        "# after each step. When you invoke the graph again using the same\n",
        "# thread_id, the graph loads its saved state, allowing the agent\n",
        "# to pick up where it left off.\n",
        "\n",
        "from langgraph.checkpoint.memory import MemorySaver\n",
        "\n",
        "memory = MemorySaver()\n",
        "\n",
        "model = ChatOpenAI(base_url=\"https://api.together.xyz/v1\",\n",
        "    temperature=0,\n",
        "    api_key=TOGETHER_API_KEY,\n",
        "    model=\"meta-llama/Meta-Llama-3.1-8B-Instruct-Turbo\")\n",
        "\n",
        "tavily = TavilyClient(api_key=os.environ.get(\"TAVILY_API_KEY\"))"
      ]
    },
    {
      "cell_type": "code",
      "execution_count": 14,
      "id": "c224f200-fa82-435f-aa04-45e4cf4208ef",
      "metadata": {
        "id": "c224f200-fa82-435f-aa04-45e4cf4208ef"
      },
      "outputs": [],
      "source": [
        "PLAN_PROMPT = \"\"\"\n",
        "You are an expert essay writer and planner. Your task is to create a detailed, high-level outline for an essay based on the topic provided by the user.\n",
        "\n",
        "- Begin by briefly identifying the core idea or thesis of the essay.\n",
        "- Then, generate a structured outline with clear section headings (e.g., Introduction, Body Paragraphs, Conclusion), each with bullet points or sub-sections indicating the main ideas or arguments to be covered.\n",
        "- Include relevant notes, tips, or stylistic suggestions for each section to guide the writing process (e.g., tone, examples to include, logical flow, citations if applicable).\n",
        "\n",
        "The goal is to provide a solid scaffold that helps the user write a coherent, well-argued, and engaging essay on the given topic.\n",
        "\"\"\"\n",
        "\n",
        "RESEARCH_PLAN_PROMPT = \"\"\"\n",
        "You are an experienced researcher supporting the writing of an essay on the topic provided below.\n",
        "\n",
        "Your task is to generate up to **three well-crafted search queries** that will help gather the most relevant, credible, and useful information for writing the essay.\n",
        "\n",
        "The queries should aim to uncover key facts, arguments, statistics, historical context, expert opinions, or recent developments related to the topic.\n",
        "\"\"\"\n",
        "\n",
        "WRITER_PROMPT = \"\"\"\n",
        "You are a skilled essay writing assistant. Your task is to write a clear, coherent, and engaging 5-paragraph essay based on the user's request and the initial outline.\n",
        "\n",
        "- Follow the classic 5-paragraph structure: Introduction, 3 Body Paragraphs, and Conclusion.\n",
        "- Ensure logical flow, strong transitions, and well-supported arguments.\n",
        "- Maintain appropriate tone and style depending on the topic (e.g., academic, persuasive, reflective).\n",
        "- Use the provided content below as your guide. If this is a revision request, improve upon the previous essay based on the critique given.\n",
        "\n",
        "----------\n",
        "\n",
        "{content}\n",
        "\"\"\"\n",
        "\n",
        "REFLECTION_PROMPT = \"\"\"\n",
        "You are an experienced teacher reviewing a student's essay submission.\n",
        "\n",
        "Your task is to provide constructive, detailed feedback and actionable recommendations for improvement.\n",
        "Consider the essay’s structure, clarity, argumentation, depth of analysis, grammar, style, and adherence to the prompt.\n",
        "\n",
        "Your feedback should include:\n",
        "- Strengths of the submission\n",
        "- Areas for improvement\n",
        "- Specific suggestions for enhancing length, depth, clarity, or style\n",
        "- Tone and voice appropriateness\n",
        "- Any missing elements or ideas that could strengthen the essay\n",
        "\n",
        "Be encouraging but honest, and aim to help the student produce a significantly improved next draft.\n",
        "\"\"\"\n",
        "\n",
        "RESEARCH_CRITIQUE_PROMPT = \"\"\"\n",
        "You are a researcher supporting revisions to an essay based on the critique provided below.\n",
        "\n",
        "Your task is to generate up to **three targeted search queries** that will help the writer gather additional or improved information needed for revision.\n",
        "These queries should aim to address specific weaknesses, gaps, or improvement areas identified in the feedback — such as lack of depth, missing examples, unclear arguments, or insufficient evidence.\n",
        "\n",
        "Focus on crafting precise, high-impact queries that directly support a stronger revised draft.\n",
        "\"\"\""
      ]
    },
    {
      "cell_type": "code",
      "execution_count": 11,
      "id": "3b182bf4-62c7-4238-a796-136742843582",
      "metadata": {
        "id": "3b182bf4-62c7-4238-a796-136742843582"
      },
      "outputs": [],
      "source": [
        "class AgentState(TypedDict):\n",
        "    task: str\n",
        "    plan: str\n",
        "    draft: str\n",
        "    critique: str\n",
        "    content: List[str]\n",
        "    revision_number: int\n",
        "    max_revisions: int"
      ]
    },
    {
      "cell_type": "code",
      "execution_count": 12,
      "id": "71b78bde-d934-4c66-b4df-012ec2826dcf",
      "metadata": {
        "id": "71b78bde-d934-4c66-b4df-012ec2826dcf"
      },
      "outputs": [],
      "source": [
        "class Queries(BaseModel):\n",
        "    queries: List[str]"
      ]
    },
    {
      "cell_type": "code",
      "execution_count": 15,
      "id": "f2a554f4-796d-4c60-85d5-d564beb3e8f3",
      "metadata": {
        "id": "f2a554f4-796d-4c60-85d5-d564beb3e8f3"
      },
      "outputs": [],
      "source": [
        "def plan_node(state: AgentState):\n",
        "    messages = [\n",
        "        SystemMessage(content=PLAN_PROMPT),\n",
        "        HumanMessage(content=state[\"task\"])\n",
        "    ]\n",
        "    response = model.invoke(messages)\n",
        "    return {\"plan\": response.content}"
      ]
    },
    {
      "cell_type": "code",
      "execution_count": 16,
      "id": "1ea6a862-05df-4f73-8af4-24f9bd3e0432",
      "metadata": {
        "id": "1ea6a862-05df-4f73-8af4-24f9bd3e0432"
      },
      "outputs": [],
      "source": [
        "def research_plan_node(state: AgentState):\n",
        "    queries = model.with_structured_output(Queries).invoke([\n",
        "        SystemMessage(content=RESEARCH_PLAN_PROMPT),\n",
        "        HumanMessage(content=state[\"task\"])\n",
        "    ])\n",
        "    content = state.get(\"content\", [])\n",
        "    for q in queries.queries:\n",
        "        response = tavily.search(query=q,\n",
        "                                 max_results=2,\n",
        "                                 search_depth='advanced',\n",
        "                                 max_tokens=1000)\n",
        "        for r in response[\"results\"]:\n",
        "            content.append(r[\"content\"])\n",
        "    return {\"content\": content}"
      ]
    },
    {
      "cell_type": "code",
      "execution_count": 17,
      "id": "6ff40de3-f431-4bab-8682-511dc831cf1e",
      "metadata": {
        "id": "6ff40de3-f431-4bab-8682-511dc831cf1e"
      },
      "outputs": [],
      "source": [
        "def generation_node(state: AgentState):\n",
        "    content = \"\\n\\n\".join([\"content\"] or [])\n",
        "    user_message = HumanMessage(content=f\"{state['task']}\\n\\nHere is my plan:\\n\\n{state['plan']}\")\n",
        "    messages = [\n",
        "        SystemMessage(content=WRITER_PROMPT.format(content=content)),\n",
        "        user_message,\n",
        "    ]\n",
        "    response = model.invoke(messages)\n",
        "    return {\n",
        "        \"draft\": response.content,\n",
        "        \"revision_number\": state.get(\"revision_number\", 1) + 1,\n",
        "    }"
      ]
    },
    {
      "cell_type": "code",
      "execution_count": 18,
      "id": "cf68b477-a5bc-4f59-a50c-d7aa0e13c776",
      "metadata": {
        "id": "cf68b477-a5bc-4f59-a50c-d7aa0e13c776"
      },
      "outputs": [],
      "source": [
        "def reflection_node(state: AgentState):\n",
        "    messages = [\n",
        "        SystemMessage(content=REFLECTION_PROMPT),\n",
        "        HumanMessage(content=state['draft']),\n",
        "    ]\n",
        "    response = model.invoke(messages)\n",
        "    return {\"critique\": response.content}"
      ]
    },
    {
      "cell_type": "code",
      "execution_count": 19,
      "id": "4fdf30e4-dbb8-4196-8334-2252ac8f275c",
      "metadata": {
        "id": "4fdf30e4-dbb8-4196-8334-2252ac8f275c"
      },
      "outputs": [],
      "source": [
        "def research_critique_node(state: AgentState):\n",
        "    queries = model.with_structured_output(Queries).invoke([\n",
        "        SystemMessage(content=RESEARCH_CRITIQUE_PROMPT),\n",
        "        HumanMessage(content=state['critique'])\n",
        "    ])\n",
        "    content = state['content'] or []\n",
        "    for q in queries.queries:\n",
        "        response = tavily.search(query=q,\n",
        "                                 max_results=2,\n",
        "                                 search_depth='advanced',\n",
        "                                 max_tokens=1000)\n",
        "        for r in response[\"results\"]:\n",
        "            content.append(r[\"content\"])\n",
        "    return {\"content\": content}"
      ]
    },
    {
      "cell_type": "code",
      "execution_count": 20,
      "id": "a08e211d-d2e4-4fda-a7b5-93437437ab55",
      "metadata": {
        "id": "a08e211d-d2e4-4fda-a7b5-93437437ab55"
      },
      "outputs": [],
      "source": [
        "def should_continue(state):\n",
        "    if state['revision_number'] > state['max_revisions']:\n",
        "        return END\n",
        "    return 'reflect'"
      ]
    },
    {
      "cell_type": "code",
      "execution_count": 21,
      "id": "f45ecf7c-c1c7-4829-82a2-45d9fee4c9bd",
      "metadata": {
        "id": "f45ecf7c-c1c7-4829-82a2-45d9fee4c9bd"
      },
      "outputs": [],
      "source": [
        "builder = StateGraph(AgentState)"
      ]
    },
    {
      "cell_type": "code",
      "execution_count": null,
      "id": "26a6990c-1697-4f2d-8bb4-009a8cabd9c8",
      "metadata": {
        "id": "26a6990c-1697-4f2d-8bb4-009a8cabd9c8"
      },
      "outputs": [],
      "source": [
        "builder.add_node('planner', plan_node)\n",
        "builder.add_node('research_plan', research_plan_node)\n",
        "builder.add_node('generate', generation_node)\n",
        "builder.add_node('reflect', reflection_node)\n",
        "builder.add_node('research_critique', research_critique_node)\n",
        "\n",
        "builder.set_entry_point('planner')"
      ]
    },
    {
      "cell_type": "code",
      "execution_count": 25,
      "id": "f43dbb8b-9c86-4c75-8145-ba637b0d1cb2",
      "metadata": {
        "colab": {
          "base_uri": "https://localhost:8080/"
        },
        "id": "f43dbb8b-9c86-4c75-8145-ba637b0d1cb2",
        "outputId": "5bdee99f-a120-4f81-9665-8eee775d371c"
      },
      "outputs": [
        {
          "output_type": "execute_result",
          "data": {
            "text/plain": [
              "<langgraph.graph.state.StateGraph at 0x79977b0de050>"
            ]
          },
          "metadata": {},
          "execution_count": 25
        }
      ],
      "source": [
        "builder.add_conditional_edges(\n",
        "    \"generate\",\n",
        "    should_continue,\n",
        "    {END: END, \"reflect\": \"reflect\"}\n",
        ")\n",
        "\n",
        "builder.add_edge(\"planner\", \"research_plan\")\n",
        "builder.add_edge(\"research_plan\", \"generate\")\n",
        "builder.add_edge(\"reflect\", \"research_critique\")\n",
        "builder.add_edge(\"research_critique\", \"generate\")"
      ]
    },
    {
      "cell_type": "code",
      "execution_count": 26,
      "id": "74f69542-4d23-45d7-ad33-d95ff2f90e98",
      "metadata": {
        "id": "74f69542-4d23-45d7-ad33-d95ff2f90e98"
      },
      "outputs": [],
      "source": [
        "# compile the graph\n",
        "graph = builder.compile(checkpointer=memory)"
      ]
    },
    {
      "cell_type": "code",
      "execution_count": 27,
      "id": "27593797-07b4-4aae-b391-b226f2a9a24e",
      "metadata": {
        "colab": {
          "base_uri": "https://localhost:8080/",
          "height": 563
        },
        "id": "27593797-07b4-4aae-b391-b226f2a9a24e",
        "outputId": "36241f49-47c8-44d7-9511-02002109c5a9"
      },
      "outputs": [
        {
          "output_type": "display_data",
          "data": {
            "image/png": "[encoded data removed]",
            "text/plain": [
              "<IPython.core.display.Image object>"
            ]
          },
          "metadata": {}
        }
      ],
      "source": [
        "from IPython.display import Image, display\n",
        "\n",
        "try:\n",
        "    display(Image(graph.get_graph().draw_mermaid_png()))\n",
        "except Exception:\n",
        "    # This requires some extra dependencies and is optional\n",
        "    pass"
      ]
    },
    {
      "cell_type": "code",
      "execution_count": 28,
      "id": "76b57c53-75be-4235-b4ef-837ea1d89a06",
      "metadata": {
        "colab": {
          "base_uri": "https://localhost:8080/"
        },
        "id": "76b57c53-75be-4235-b4ef-837ea1d89a06",
        "outputId": "83f8c95e-932c-463d-fe40-d9d704fd01a2"
      },
      "outputs": [
        {
          "output_type": "stream",
          "name": "stdout",
          "text": [
            "{'planner': {'plan': \"**Core Idea/Thesis:**\\nThe Harry Potter novels by J.K. Rowling are a masterpiece of modern literature that not only captivated the hearts of millions of readers worldwide but also provided a rich tapestry of themes, characters, and symbolism that continue to resonate with readers of all ages. Through the series, Rowling explores the complexities of human nature, the power of love and friendship, and the struggle between good and evil, ultimately creating a world that is both magical and profoundly relatable.\\n\\n**Essay Outline:**\\n\\n**I. Introduction**\\n\\n* Briefly introduce the Harry Potter series and its author, J.K. Rowling\\n* Provide background information on the series' popularity and impact\\n* Thesis statement: The Harry Potter novels are a masterpiece of modern literature that explores the complexities of human nature, the power of love and friendship, and the struggle between good and evil.\\n\\n**Notes:**\\n\\n* Use a hook to grab the reader's attention, e.g., a quote from the series or a fascinating fact about the author\\n* Keep the introduction concise and focused on the main argument\\n* Use a clear and concise writing style throughout the essay\\n\\n**II. The Power of Love and Friendship**\\n\\n* Discuss the importance of relationships in the series, particularly the bond between Harry, Ron, and Hermione\\n* Analyze how these relationships help the characters overcome challenges and grow as individuals\\n* Explore the symbolism of love and friendship in the series, e.g., the importance of loyalty, trust, and sacrifice\\n\\n**Examples to include:**\\n\\n* The friendship between Harry, Ron, and Hermione in the first book\\n* The sacrifice of Sirius Black and the impact on Harry's relationships\\n* The love story between Ron and Hermione and its significance in the series\\n\\n**III. The Struggle between Good and Evil**\\n\\n* Discuss the main antagonists in the series, e.g., Voldemort, Draco Malfoy, and the Death Eaters\\n* Analyze how the characters grapple with the nature of good and evil, e.g., Harry's struggle with his destiny and the temptation of power\\n* Explore the symbolism of good and evil in the series, e.g., the importance of morality, courage, and redemption\\n\\n**Examples to include:**\\n\\n* The backstory of Voldemort and his descent into darkness\\n* The character development of Severus Snape and his ultimate redemption\\n* The significance of the Horcruxes and the ultimate defeat of Voldemort\\n\\n**IV. The Complexity of Human Nature**\\n\\n* Discuss the complexities of the main characters, e.g., Harry's insecurities, Ron's jealousy, and Hermione's perfectionism\\n* Analyze how the series explores the human condition, e.g., fear, anger, and the struggle for identity\\n* Explore the symbolism of human nature in the series, e.g., the importance of self-discovery, growth, and transformation\\n\\n**Examples to include:**\\n\\n* The character development of Luna Lovegood and her unique perspective on the world\\n* The exploration of mental health and trauma in the series, e.g., Harry's PTSD and Ginny's anxiety\\n* The significance of the wizarding world's treatment of non-human magical creatures and the impact on the characters\\n\\n**V. Conclusion**\\n\\n* Summarize the main arguments and themes of the essay\\n* Reiterate the thesis statement and provide supporting evidence from the series\\n* Final thoughts: the enduring impact of the Harry Potter series and its continued relevance in modern society\\n\\n**Notes:**\\n\\n* Use a clear and concise writing style throughout the conclusion\\n* Avoid introducing new information or arguments in the conclusion\\n* End with a thought-provoking statement or a call to action\"}}\n",
            "{'research_plan': {'content': ['The findings showed that J. K. Rowling mostly used compound complex, declarative, simple past, and active voice. The transformed sentences were mostly composed', \"possesses a talent for creating complex and fallible characters who make her books comparable to those of other literary greats. Rowling's use of complicated characters and literary devices not only set her apart from many of her contemporaries, but also places her among a canon of great authors who use these same techniques to make their works more literary. On the surface, Rowling's series may appear to serve a purely entertaining purpose, but Rowling has created a layered narrative that [...] story more satirical. Rowling takes the commonly recognized stereotype of competitive academics and exaggerates it, making her characters so competitive that it is sometimes laughable. For example, in Book Two, 39 Chamber of Secrets, Snape embarrasses Professor Lockhart, a man known for his inflated ego and boastful exaggerations, during a dueling demonstration, amusing students and readers alike (190). This technique not only makes her writing more entertaining, it also adds to the overall [...] treatment of Harry functions as the 41 antithesis of the way Harry will be treated for the majority of the series, telling Harry and his readers that the Wizarding world is where he really belongs. Another example of this occurs in one of Rowling's most hyperbolic characters: Rubeus Hagrid, whose mother was a giantess (Order of the Phoenix 691). Hagrid is Harry's introduction to the magical world in Book One, Sorcerer's Stone, and his presence certainly makes an impact due to his immense size\", 'The enormous popularity of the Harry Potter books points to the deep resonance readers feel with the psychological issues they bring to life. Three developmental issues provide central themes: the necessity for partial disenchantment and increasing attunement to reality, while retaining a capacity for wonder; repudiation or endorsement of the narcissistic solution to life\\'s difficulties; and aggression and castration fantasies while growing into adult power. These developmental issues are [...] are among such literature. Common object relations themes, as well as other intrapsychic processes, are presented in such an imaginative and resonant way that the unconscious is readily engaged. The character of Harry Potter, specifically, embodies such universal (repressed) torments as the agony of destroying and losing the mother; the ominous perception of good and bad objects at war within the self; and the earnest reparative efforts offered to save the self from eternal separation from the [...] <p>The period from 1880 to 1900 is regarded as the period of \"spoilation\" of western rangelands. In Albert <span class=\"hlt\">Potters</span> own words, \"Quick profits and fortunes lead to speculation and incredible numbers of stock were placed upon the range. Cowman was arrayed against sheep man, big owners against small, and might ruled more often than right.\" The Government...</p>\\r\\n      </li>\\r\\n\\r\\n      </ol>  \\r\\n       <div class=\"pull-right\">\\r\\n          <ul class=\"pagination\">', \"by M Gymnich · 2017 · Cited by 2 — ... themes to the Harry Potter series, it can also be seen that fears and anxieties connected to Voldemort's actions influence the plot of Harry Potter and the\", '3. The study will focus on analysing the personality of only three characters in the series: Harry Potter, Lord Voldemort and Severus Snape.\\n4. The study analyzes all the seven books of the series but with limitations. The study’s main concern will be to study the instances and scenes that show the development of the characters and the occurrence of abuse and its types and effects in the series.\\n1.7. [...] series contains other heroes, such as Snape, besides Harry as the main hero, and there are many antiheroes, too. Some of the heroes do not remain as heroes throughout the series, and some of the antiheroes turn to be heroes, thus, it is important to study the heroes and antiheroes progressively throughout the Harry Potter series and to examine how abuse may change their personalities and attitudes. Furthermore, the current study will examine the chronological development of the characters from [...] 10 On the other hand, the Harry Potter series has been studied as a representative of the fairytale and archetypal hero by analyzing Harry’s character mainly without giving the same attention to other characters in the series such as the antiheroes and the villains.', 'fun of people who are propelled forward in life by the desire for status among the affluent. Doing so Rowling creates a schisma between muggles and wizards. Seen through its exponents, the Dursleys, mugglekind becomes not only embarrassingly stupid, but also immoral as we see them elevate status to a life goal. The wizard family we get to know the best in the series, the Weasleys, stand out as morally upright. Unlike the Dursleys they are not concerned about fitting in or being “normal” and [...] they do not go to great lengths to distance themselves from “abnormal” people. The Weasley home is warm and welcoming. In sharp contrast to Vernon Dursley, Arthur Weasley is not status-oriented. In fact, he is happy to keep one of the most looked down upon positions at the Ministry of Magic. Arthur‟s expertise is muggle artifacts and relations. While Vernon has done all in his power to conceal his relation with wizard nephew Harry, Arthur has raised 20 his family to be proud “blood-traitors,” [...] torture, harassment and eventually death. Hitler was part Jew and Voldemort, the son of a muggle, Tom Riddle, is not pureblood. Abandoned by his mother at an orphanage as a baby, family is unimportant to Voldemort who has steadily grown more selfish and evil. Power and control are what Voldemort seeks. For Voldemort‟s followers family is important. Only a pure family record can secure status and safety in the group. Two families are particularly prominent, the Black‟s and the Malfoy‟s, both']}}\n",
            "{'generate': {'draft': \"**The Enchanted World of Harry Potter: A Masterpiece of Modern Literature**\\n\\nJ.K. Rowling's Harry Potter series has captivated the hearts of millions of readers worldwide, transporting them to a magical world of wonder and awe. As the most beloved and enduring series of the 21st century, Harry Potter has not only become a cultural phenomenon but also a rich tapestry of themes, characters, and symbolism that continue to resonate with readers of all ages. Through the series, Rowling explores the complexities of human nature, the power of love and friendship, and the struggle between good and evil, ultimately creating a world that is both magical and profoundly relatable.\\n\\n**The Power of Love and Friendship**\\n\\nAt the heart of the Harry Potter series lies the importance of relationships, particularly the bond between Harry, Ron, and Hermione. Their friendship is a testament to the power of love and loyalty, as they support and encourage each other through thick and thin. The series highlights the significance of trust, sacrifice, and loyalty, as the trio faces numerous challenges and overcomes incredible odds. The sacrifice of Sirius Black, for instance, has a profound impact on Harry's relationships, teaching him the value of love and the importance of holding onto those who care for him. The love story between Ron and Hermione, on the other hand, adds a new dimension to the series, showcasing the complexities of romantic relationships and the power of love to overcome even the most daunting challenges.\\n\\n**The Struggle between Good and Evil**\\n\\nThe Harry Potter series is a classic tale of good vs. evil, with Voldemort and his Death Eaters representing the darkest aspects of human nature. The series explores the complexities of morality, courage, and redemption, as the characters grapple with the nature of good and evil. Harry's struggle with his destiny and the temptation of power is a prime example of this, as he navigates the weight of his responsibilities and the danger of succumbing to the Dark Lord's influence. The character development of Severus Snape, who ultimately redeems himself through his love for Lily and his protection of Harry, is a powerful exploration of the human capacity for growth and transformation. The significance of the Horcruxes, on the other hand, serves as a reminder of the devastating consequences of evil and the importance of confronting and defeating it.\\n\\n**The Complexity of Human Nature**\\n\\nThe Harry Potter series is a rich exploration of the human condition, delving into the complexities of fear, anger, and the struggle for identity. The characters are multidimensional and relatable, with their own unique struggles and insecurities. Harry's insecurities, Ron's jealousy, and Hermione's perfectionism are just a few examples of the many complexities that make up the human experience. The series also explores the importance of self-discovery, growth, and transformation, as the characters navigate the challenges of adolescence and young adulthood. The character development of Luna Lovegood, who offers a unique perspective on the world, is a prime example of this, as she encourages the reader to think outside the box and challenge their assumptions.\\n\\n**Conclusion**\\n\\nThe Harry Potter series is a masterpiece of modern literature that continues to captivate readers of all ages. Through its exploration of the complexities of human nature, the power of love and friendship, and the struggle between good and evil, the series creates a world that is both magical and profoundly relatable. As we reflect on the enduring impact of the series, we are reminded of the importance of love, loyalty, and the human capacity for growth and transformation. The Harry Potter series is a testament to the power of storytelling and the enduring relevance of its themes in modern society. As we continue to navigate the complexities of our own world, the lessons of Harry Potter remain a powerful reminder of the importance of empathy, compassion, and the human spirit.\", 'revision_number': 2}}\n",
            "{'reflect': {'critique': \"**Overall Assessment**\\n\\nYour essay provides a comprehensive and engaging analysis of the Harry Potter series, exploring its themes, characters, and symbolism. You have successfully demonstrated a deep understanding of the series and its impact on readers worldwide. Your writing is clear, concise, and well-organized, making it easy to follow and understand.\\n\\n**Strengths**\\n\\n1. **Clear Structure**: Your essay follows a logical structure, with each section exploring a specific theme or aspect of the series.\\n2. **Engaging Writing Style**: Your writing is engaging, and you have used vivid language to describe the series and its characters.\\n3. **Depth of Analysis**: You have provided a thorough analysis of the series, exploring its themes, characters, and symbolism in depth.\\n4. **Use of Examples**: You have effectively used examples from the series to support your arguments, making your analysis more convincing and relatable.\\n\\n**Areas for Improvement**\\n\\n1. **Transitions and Connections**: While your essay is well-structured, there are moments where the transitions between sections feel a bit abrupt. Consider adding more transitional phrases or sentences to connect your ideas more smoothly.\\n2. **Depth of Analysis in Some Sections**: While your analysis is thorough in some sections, it feels a bit superficial in others. Consider delving deeper into the themes and characters, exploring their complexities and nuances.\\n3. **Use of Quotes and Evidence**: While you have used examples from the series, consider incorporating more quotes and evidence to support your arguments. This will add more depth and credibility to your analysis.\\n4. **Conclusion**: While your conclusion is a good summary of your main points, it feels a bit repetitive. Consider adding more depth and analysis to your conclusion, exploring the broader implications of the series and its themes.\\n\\n**Specific Suggestions**\\n\\n1. **Use more nuanced language**: While your writing is clear and concise, consider using more nuanced language to describe the series and its themes. This will add more depth and complexity to your analysis.\\n2. **Explore the series' cultural significance**: Consider exploring the series' cultural significance, discussing how it reflects and shapes societal attitudes towards love, friendship, and good vs. evil.\\n3. **Analyze the series' use of symbolism**: Consider analyzing the series' use of symbolism, exploring how it adds depth and complexity to the narrative.\\n4. **Discuss the series' impact on readers**: Consider discussing the series' impact on readers, exploring how it has influenced their perspectives on love, friendship, and good vs. evil.\\n\\n**Tone and Voice**\\n\\nYour tone and voice are engaging and enthusiastic, reflecting your passion for the series. However, consider toning down your language in some sections, as it feels a bit too effusive at times. A more measured tone will add more credibility to your analysis.\\n\\n**Missing Elements**\\n\\n1. **More nuanced analysis of the series' themes**: While your analysis is thorough, consider exploring the series' themes in more depth, exploring their complexities and nuances.\\n2. **More discussion of the series' cultural significance**: Consider discussing the series' cultural significance, exploring how it reflects and shapes societal attitudes towards love, friendship, and good vs. evil.\\n3. **More analysis of the series' use of symbolism**: Consider analyzing the series' use of symbolism, exploring how it adds depth and complexity to the narrative.\\n\\nOverall, your essay provides a comprehensive and engaging analysis of the Harry Potter series. With some revisions to address the areas for improvement, it has the potential to be a truly outstanding essay.\"}}\n",
            "{'research_critique': {'content': ['The findings showed that J. K. Rowling mostly used compound complex, declarative, simple past, and active voice. The transformed sentences were mostly composed', \"possesses a talent for creating complex and fallible characters who make her books comparable to those of other literary greats. Rowling's use of complicated characters and literary devices not only set her apart from many of her contemporaries, but also places her among a canon of great authors who use these same techniques to make their works more literary. On the surface, Rowling's series may appear to serve a purely entertaining purpose, but Rowling has created a layered narrative that [...] story more satirical. Rowling takes the commonly recognized stereotype of competitive academics and exaggerates it, making her characters so competitive that it is sometimes laughable. For example, in Book Two, 39 Chamber of Secrets, Snape embarrasses Professor Lockhart, a man known for his inflated ego and boastful exaggerations, during a dueling demonstration, amusing students and readers alike (190). This technique not only makes her writing more entertaining, it also adds to the overall [...] treatment of Harry functions as the 41 antithesis of the way Harry will be treated for the majority of the series, telling Harry and his readers that the Wizarding world is where he really belongs. Another example of this occurs in one of Rowling's most hyperbolic characters: Rubeus Hagrid, whose mother was a giantess (Order of the Phoenix 691). Hagrid is Harry's introduction to the magical world in Book One, Sorcerer's Stone, and his presence certainly makes an impact due to his immense size\", 'The enormous popularity of the Harry Potter books points to the deep resonance readers feel with the psychological issues they bring to life. Three developmental issues provide central themes: the necessity for partial disenchantment and increasing attunement to reality, while retaining a capacity for wonder; repudiation or endorsement of the narcissistic solution to life\\'s difficulties; and aggression and castration fantasies while growing into adult power. These developmental issues are [...] are among such literature. Common object relations themes, as well as other intrapsychic processes, are presented in such an imaginative and resonant way that the unconscious is readily engaged. The character of Harry Potter, specifically, embodies such universal (repressed) torments as the agony of destroying and losing the mother; the ominous perception of good and bad objects at war within the self; and the earnest reparative efforts offered to save the self from eternal separation from the [...] <p>The period from 1880 to 1900 is regarded as the period of \"spoilation\" of western rangelands. In Albert <span class=\"hlt\">Potters</span> own words, \"Quick profits and fortunes lead to speculation and incredible numbers of stock were placed upon the range. Cowman was arrayed against sheep man, big owners against small, and might ruled more often than right.\" The Government...</p>\\r\\n      </li>\\r\\n\\r\\n      </ol>  \\r\\n       <div class=\"pull-right\">\\r\\n          <ul class=\"pagination\">', \"by M Gymnich · 2017 · Cited by 2 — ... themes to the Harry Potter series, it can also be seen that fears and anxieties connected to Voldemort's actions influence the plot of Harry Potter and the\", '3. The study will focus on analysing the personality of only three characters in the series: Harry Potter, Lord Voldemort and Severus Snape.\\n4. The study analyzes all the seven books of the series but with limitations. The study’s main concern will be to study the instances and scenes that show the development of the characters and the occurrence of abuse and its types and effects in the series.\\n1.7. [...] series contains other heroes, such as Snape, besides Harry as the main hero, and there are many antiheroes, too. Some of the heroes do not remain as heroes throughout the series, and some of the antiheroes turn to be heroes, thus, it is important to study the heroes and antiheroes progressively throughout the Harry Potter series and to examine how abuse may change their personalities and attitudes. Furthermore, the current study will examine the chronological development of the characters from [...] 10 On the other hand, the Harry Potter series has been studied as a representative of the fairytale and archetypal hero by analyzing Harry’s character mainly without giving the same attention to other characters in the series such as the antiheroes and the villains.', 'fun of people who are propelled forward in life by the desire for status among the affluent. Doing so Rowling creates a schisma between muggles and wizards. Seen through its exponents, the Dursleys, mugglekind becomes not only embarrassingly stupid, but also immoral as we see them elevate status to a life goal. The wizard family we get to know the best in the series, the Weasleys, stand out as morally upright. Unlike the Dursleys they are not concerned about fitting in or being “normal” and [...] they do not go to great lengths to distance themselves from “abnormal” people. The Weasley home is warm and welcoming. In sharp contrast to Vernon Dursley, Arthur Weasley is not status-oriented. In fact, he is happy to keep one of the most looked down upon positions at the Ministry of Magic. Arthur‟s expertise is muggle artifacts and relations. While Vernon has done all in his power to conceal his relation with wizard nephew Harry, Arthur has raised 20 his family to be proud “blood-traitors,” [...] torture, harassment and eventually death. Hitler was part Jew and Voldemort, the son of a muggle, Tom Riddle, is not pureblood. Abandoned by his mother at an orphanage as a baby, family is unimportant to Voldemort who has steadily grown more selfish and evil. Power and control are what Voldemort seeks. For Voldemort‟s followers family is important. Only a pure family record can secure status and safety in the group. Two families are particularly prominent, the Black‟s and the Malfoy‟s, both', '... good\\u0e00verse\\u0e00evil. Living\\u0e00Together\\u0e00in\\u0e00the\\u0e00Harry\\u0e00Potter\\u0e00Series Just\\u0e00as\\u0e00in\\u0e00the\\u0e00case\\u0e00of\\u0e00virtue,\\u0e00complete\\u0e00friendship\\u0e00cannot\\u0e00exist\\u0e00 without\\u0e00 the\\u0e00 active\\u0e00 condition', 'Harry as the hero is portrayed as a force of good while his enemy Voldemort is the epitome of evil. A light is shed on these aspects of Harry and Voldemort, and', 'Este artículo analiza la voz narrativa y la presencia de elementos metatextuales y metaficcionales en las novelas de la saga Harry Potter (1997-2007).', \"The following graphic illustrates the analysis with the character feature for the book Harry Potter and the Philosopher's Stone . Each row represents one\", 'The series explores complex themes of good versus evil, love, loss ... Studies of the benefits of reading are extensive, and the effects of this series, in', 'Love protects Harry from evil on numerous occasions ... might of love in the fight against evil, the importance of good family and friends,.']}}\n",
            "{'generate': {'draft': \"**The Enchanted World of Harry Potter: A Masterpiece of Modern Literature**\\n\\nJ.K. Rowling's Harry Potter series has captivated the hearts of millions of readers worldwide, transporting them to a magical world of wonder and awe. As the most beloved and enduring series of the 21st century, Harry Potter has not only become a cultural phenomenon but also a rich tapestry of themes, characters, and symbolism that continue to resonate with readers of all ages. Through the series, Rowling explores the complexities of human nature, the power of love and friendship, and the struggle between good and evil, ultimately creating a world that is both magical and profoundly relatable.\\n\\n**The Power of Love and Friendship**\\n\\nAt the heart of the Harry Potter series lies the importance of relationships, particularly the bond between Harry, Ron, and Hermione. Their friendship is a testament to the power of love and loyalty, as they support each other through thick and thin, facing challenges that would break even the strongest of individuals. The symbolism of love and friendship in the series is evident in the importance of loyalty, trust, and sacrifice. For example, the sacrifice of Sirius Black and the impact on Harry's relationships serve as a poignant reminder of the depth of their bond. Similarly, the love story between Ron and Hermione is a significant aspect of the series, as it highlights the importance of trust, communication, and mutual support in relationships.\\n\\nThe friendship between Harry, Ron, and Hermione is a shining example of the power of love and friendship in the series. In the first book, they form an unbreakable bond, which is tested and strengthened throughout the series. Their relationships are not limited to each other; they also extend to other characters, such as Luna Lovegood, who becomes a source of comfort and support for Harry. The love story between Ron and Hermione is a beautiful example of how love can conquer even the most daunting challenges. Their relationship is built on trust, communication, and mutual support, making it a powerful symbol of the importance of love and friendship in the series.\\n\\n**The Struggle between Good and Evil**\\n\\nThe Harry Potter series is a classic tale of good vs. evil, with the main antagonists, Voldemort, Draco Malfoy, and the Death Eaters, representing the dark forces that seek to destroy the wizarding world. The series explores the complexities of good and evil, as the characters grapple with the nature of morality, courage, and redemption. Harry's struggle with his destiny and the temptation of power is a prime example of the series' exploration of the human condition. The character development of Severus Snape is another significant aspect of the series, as he undergoes a transformation from a bitter and isolated individual to a redeemed and selfless hero.\\n\\nThe symbolism of good and evil in the series is evident in the importance of morality, courage, and redemption. The Horcruxes, which are the key to Voldemort's immortality, serve as a powerful symbol of the destructive nature of evil. The ultimate defeat of Voldemort is a testament to the power of good, as the characters come together to defeat the Dark Lord and restore peace to the wizarding world. The series also explores the complexities of human nature, as the characters grapple with their own moral ambiguities and the consequences of their actions.\\n\\n**The Complexity of Human Nature**\\n\\nThe Harry Potter series is a rich tapestry of complex characters, each with their own unique personality, struggles, and motivations. Harry's insecurities, Ron's jealousy, and Hermione's perfectionism are just a few examples of the complexities of human nature that are explored in the series. The series also explores the human condition, as the characters face fear, anger, and the struggle for identity. The character development of Luna Lovegood is a beautiful example of how the series explores the complexities of human nature. Her unique perspective on the world and her unwavering optimism serve as a powerful reminder of the importance of self-discovery, growth, and transformation.\\n\\nThe series also explores mental health and trauma, as Harry's PTSD and Ginny's anxiety serve as a poignant reminder of the impact of trauma on individuals and communities. The wizarding world's treatment of non-human magical creatures is another significant aspect of the series, as it highlights the importance of empathy, compassion, and understanding. The series also explores the complexities of power and corruption, as the characters grapple with the consequences of their actions and the impact of their decisions on others.\\n\\n**Conclusion**\\n\\nIn conclusion, the Harry Potter series is a masterpiece of modern literature that explores the complexities of human nature, the power of love and friendship, and the struggle between good and evil. Through the series, Rowling creates a world that is both magical and profoundly relatable, as the characters face challenges that are both fantastical and universally human. The series' exploration of the human condition, its symbolism of love and friendship, and its portrayal of the struggle between good and evil make it a timeless classic that continues to captivate readers of all ages. As we reflect on the enduring impact of the Harry Potter series, we are reminded of the power of literature to inspire, educate, and transform us.\", 'revision_number': 3}}\n"
          ]
        }
      ],
      "source": [
        "results = []\n",
        "\n",
        "thread = {\n",
        "    \"configurable\": {'thread_id': '1'}\n",
        "}\n",
        "for s in graph.stream({\n",
        "    'task': 'Write essay on the Harry Potter Novels',\n",
        "    'max_revisions': 2,\n",
        "    'revision_number': 1\n",
        "}, thread):\n",
        "    results.append(s)\n",
        "    print(s)"
      ]
    },
    {
      "cell_type": "markdown",
      "id": "0afd9e52-1299-4366-b48c-1a3689165443",
      "metadata": {
        "id": "0afd9e52-1299-4366-b48c-1a3689165443"
      },
      "source": [
        "### Planner"
      ]
    },
    {
      "cell_type": "code",
      "execution_count": 29,
      "id": "c3490993-ec5a-4509-b642-4d32e004b069",
      "metadata": {
        "id": "c3490993-ec5a-4509-b642-4d32e004b069",
        "outputId": "a51d94ea-a965-4ea9-8a39-36bc08420184",
        "colab": {
          "base_uri": "https://localhost:8080/",
          "height": 954
        }
      },
      "outputs": [
        {
          "output_type": "execute_result",
          "data": {
            "text/plain": [
              "<IPython.core.display.Markdown object>"
            ],
            "text/markdown": "**Core Idea/Thesis:**\nThe Harry Potter novels by J.K. Rowling are a masterpiece of modern literature that not only captivated the hearts of millions of readers worldwide but also provided a rich tapestry of themes, characters, and symbolism that continue to resonate with readers of all ages. Through the series, Rowling explores the complexities of human nature, the power of love and friendship, and the struggle between good and evil, ultimately creating a world that is both magical and profoundly relatable.\n\n**Essay Outline:**\n\n**I. Introduction**\n\n* Briefly introduce the Harry Potter series and its author, J.K. Rowling\n* Provide background information on the series' popularity and impact\n* Thesis statement: The Harry Potter novels are a masterpiece of modern literature that explores the complexities of human nature, the power of love and friendship, and the struggle between good and evil.\n\n**Notes:**\n\n* Use a hook to grab the reader's attention, e.g., a quote from the series or a fascinating fact about the author\n* Keep the introduction concise and focused on the main argument\n* Use a clear and concise writing style throughout the essay\n\n**II. The Power of Love and Friendship**\n\n* Discuss the importance of relationships in the series, particularly the bond between Harry, Ron, and Hermione\n* Analyze how these relationships help the characters overcome challenges and grow as individuals\n* Explore the symbolism of love and friendship in the series, e.g., the importance of loyalty, trust, and sacrifice\n\n**Examples to include:**\n\n* The friendship between Harry, Ron, and Hermione in the first book\n* The sacrifice of Sirius Black and the impact on Harry's relationships\n* The love story between Ron and Hermione and its significance in the series\n\n**III. The Struggle between Good and Evil**\n\n* Discuss the main antagonists in the series, e.g., Voldemort, Draco Malfoy, and the Death Eaters\n* Analyze how the characters grapple with the nature of good and evil, e.g., Harry's struggle with his destiny and the temptation of power\n* Explore the symbolism of good and evil in the series, e.g., the importance of morality, courage, and redemption\n\n**Examples to include:**\n\n* The backstory of Voldemort and his descent into darkness\n* The character development of Severus Snape and his ultimate redemption\n* The significance of the Horcruxes and the ultimate defeat of Voldemort\n\n**IV. The Complexity of Human Nature**\n\n* Discuss the complexities of the main characters, e.g., Harry's insecurities, Ron's jealousy, and Hermione's perfectionism\n* Analyze how the series explores the human condition, e.g., fear, anger, and the struggle for identity\n* Explore the symbolism of human nature in the series, e.g., the importance of self-discovery, growth, and transformation\n\n**Examples to include:**\n\n* The character development of Luna Lovegood and her unique perspective on the world\n* The exploration of mental health and trauma in the series, e.g., Harry's PTSD and Ginny's anxiety\n* The significance of the wizarding world's treatment of non-human magical creatures and the impact on the characters\n\n**V. Conclusion**\n\n* Summarize the main arguments and themes of the essay\n* Reiterate the thesis statement and provide supporting evidence from the series\n* Final thoughts: the enduring impact of the Harry Potter series and its continued relevance in modern society\n\n**Notes:**\n\n* Use a clear and concise writing style throughout the conclusion\n* Avoid introducing new information or arguments in the conclusion\n* End with a thought-provoking statement or a call to action"
          },
          "metadata": {},
          "execution_count": 29
        }
      ],
      "source": [
        "Markdown(results[0][\"planner\"][\"plan\"])"
      ]
    },
    {
      "cell_type": "markdown",
      "id": "12f51304-6a46-489b-b266-bce56a4b4b30",
      "metadata": {
        "id": "12f51304-6a46-489b-b266-bce56a4b4b30"
      },
      "source": [
        "### Research Plan"
      ]
    },
    {
      "cell_type": "code",
      "execution_count": 30,
      "id": "7790cbc9-6f1d-414c-b7b1-3262f44afaa0",
      "metadata": {
        "colab": {
          "base_uri": "https://localhost:8080/"
        },
        "id": "7790cbc9-6f1d-414c-b7b1-3262f44afaa0",
        "outputId": "53366c26-a077-4bfc-c69a-d7531a691b01"
      },
      "outputs": [
        {
          "output_type": "stream",
          "name": "stdout",
          "text": [
            "The findings showed that J. K. Rowling mostly used compound complex, declarative, simple past, and active voice. The transformed sentences were mostly composed\n",
            "------\n",
            "possesses a talent for creating complex and fallible characters who make her books comparable to those of other literary greats. Rowling's use of complicated characters and literary devices not only set her apart from many of her contemporaries, but also places her among a canon of great authors who use these same techniques to make their works more literary. On the surface, Rowling's series may appear to serve a purely entertaining purpose, but Rowling has created a layered narrative that [...] story more satirical. Rowling takes the commonly recognized stereotype of competitive academics and exaggerates it, making her characters so competitive that it is sometimes laughable. For example, in Book Two, 39 Chamber of Secrets, Snape embarrasses Professor Lockhart, a man known for his inflated ego and boastful exaggerations, during a dueling demonstration, amusing students and readers alike (190). This technique not only makes her writing more entertaining, it also adds to the overall [...] treatment of Harry functions as the 41 antithesis of the way Harry will be treated for the majority of the series, telling Harry and his readers that the Wizarding world is where he really belongs. Another example of this occurs in one of Rowling's most hyperbolic characters: Rubeus Hagrid, whose mother was a giantess (Order of the Phoenix 691). Hagrid is Harry's introduction to the magical world in Book One, Sorcerer's Stone, and his presence certainly makes an impact due to his immense size\n",
            "------\n",
            "The enormous popularity of the Harry Potter books points to the deep resonance readers feel with the psychological issues they bring to life. Three developmental issues provide central themes: the necessity for partial disenchantment and increasing attunement to reality, while retaining a capacity for wonder; repudiation or endorsement of the narcissistic solution to life's difficulties; and aggression and castration fantasies while growing into adult power. These developmental issues are [...] are among such literature. Common object relations themes, as well as other intrapsychic processes, are presented in such an imaginative and resonant way that the unconscious is readily engaged. The character of Harry Potter, specifically, embodies such universal (repressed) torments as the agony of destroying and losing the mother; the ominous perception of good and bad objects at war within the self; and the earnest reparative efforts offered to save the self from eternal separation from the [...] <p>The period from 1880 to 1900 is regarded as the period of \"spoilation\" of western rangelands. In Albert <span class=\"hlt\">Potters</span> own words, \"Quick profits and fortunes lead to speculation and incredible numbers of stock were placed upon the range. Cowman was arrayed against sheep man, big owners against small, and might ruled more often than right.\" The Government...</p>\r\n",
            "      </li>\r\n",
            "\r\n",
            "      </ol>  \r\n",
            "       <div class=\"pull-right\">\r\n",
            "          <ul class=\"pagination\">\n",
            "------\n",
            "by M Gymnich · 2017 · Cited by 2 — ... themes to the Harry Potter series, it can also be seen that fears and anxieties connected to Voldemort's actions influence the plot of Harry Potter and the\n",
            "------\n",
            "3. The study will focus on analysing the personality of only three characters in the series: Harry Potter, Lord Voldemort and Severus Snape.\n",
            "4. The study analyzes all the seven books of the series but with limitations. The study’s main concern will be to study the instances and scenes that show the development of the characters and the occurrence of abuse and its types and effects in the series.\n",
            "1.7. [...] series contains other heroes, such as Snape, besides Harry as the main hero, and there are many antiheroes, too. Some of the heroes do not remain as heroes throughout the series, and some of the antiheroes turn to be heroes, thus, it is important to study the heroes and antiheroes progressively throughout the Harry Potter series and to examine how abuse may change their personalities and attitudes. Furthermore, the current study will examine the chronological development of the characters from [...] 10 On the other hand, the Harry Potter series has been studied as a representative of the fairytale and archetypal hero by analyzing Harry’s character mainly without giving the same attention to other characters in the series such as the antiheroes and the villains.\n",
            "------\n",
            "fun of people who are propelled forward in life by the desire for status among the affluent. Doing so Rowling creates a schisma between muggles and wizards. Seen through its exponents, the Dursleys, mugglekind becomes not only embarrassingly stupid, but also immoral as we see them elevate status to a life goal. The wizard family we get to know the best in the series, the Weasleys, stand out as morally upright. Unlike the Dursleys they are not concerned about fitting in or being “normal” and [...] they do not go to great lengths to distance themselves from “abnormal” people. The Weasley home is warm and welcoming. In sharp contrast to Vernon Dursley, Arthur Weasley is not status-oriented. In fact, he is happy to keep one of the most looked down upon positions at the Ministry of Magic. Arthur‟s expertise is muggle artifacts and relations. While Vernon has done all in his power to conceal his relation with wizard nephew Harry, Arthur has raised 20 his family to be proud “blood-traitors,” [...] torture, harassment and eventually death. Hitler was part Jew and Voldemort, the son of a muggle, Tom Riddle, is not pureblood. Abandoned by his mother at an orphanage as a baby, family is unimportant to Voldemort who has steadily grown more selfish and evil. Power and control are what Voldemort seeks. For Voldemort‟s followers family is important. Only a pure family record can secure status and safety in the group. Two families are particularly prominent, the Black‟s and the Malfoy‟s, both\n",
            "------\n",
            "... good฀verse฀evil. Living฀Together฀in฀the฀Harry฀Potter฀Series Just฀as฀in฀the฀case฀of฀virtue,฀complete฀friendship฀cannot฀exist฀ without฀ the฀ active฀ condition\n",
            "------\n",
            "Harry as the hero is portrayed as a force of good while his enemy Voldemort is the epitome of evil. A light is shed on these aspects of Harry and Voldemort, and\n",
            "------\n",
            "Este artículo analiza la voz narrativa y la presencia de elementos metatextuales y metaficcionales en las novelas de la saga Harry Potter (1997-2007).\n",
            "------\n",
            "The following graphic illustrates the analysis with the character feature for the book Harry Potter and the Philosopher's Stone . Each row represents one\n",
            "------\n",
            "The series explores complex themes of good versus evil, love, loss ... Studies of the benefits of reading are extensive, and the effects of this series, in\n",
            "------\n",
            "Love protects Harry from evil on numerous occasions ... might of love in the fight against evil, the importance of good family and friends,.\n",
            "------\n"
          ]
        }
      ],
      "source": [
        "for content in results[1][\"research_plan\"][\"content\"]:\n",
        "    print(content)\n",
        "    print('------')"
      ]
    },
    {
      "cell_type": "markdown",
      "id": "41ad3f58-af8d-405d-a6f4-16fb9995de3d",
      "metadata": {
        "id": "41ad3f58-af8d-405d-a6f4-16fb9995de3d"
      },
      "source": [
        "### Generate Draft"
      ]
    },
    {
      "cell_type": "code",
      "execution_count": 31,
      "id": "e6e135b5-543d-462d-8ff8-20a44b0c844b",
      "metadata": {
        "id": "e6e135b5-543d-462d-8ff8-20a44b0c844b",
        "outputId": "e9c22ecf-7a45-487e-daba-eb047a276649",
        "colab": {
          "base_uri": "https://localhost:8080/",
          "height": 621
        }
      },
      "outputs": [
        {
          "output_type": "execute_result",
          "data": {
            "text/plain": [
              "<IPython.core.display.Markdown object>"
            ],
            "text/markdown": "**The Enchanted World of Harry Potter: A Masterpiece of Modern Literature**\n\nJ.K. Rowling's Harry Potter series has captivated the hearts of millions of readers worldwide, transporting them to a magical world of wonder and awe. As the most beloved and enduring series of the 21st century, Harry Potter has not only become a cultural phenomenon but also a rich tapestry of themes, characters, and symbolism that continue to resonate with readers of all ages. Through the series, Rowling explores the complexities of human nature, the power of love and friendship, and the struggle between good and evil, ultimately creating a world that is both magical and profoundly relatable.\n\n**The Power of Love and Friendship**\n\nAt the heart of the Harry Potter series lies the importance of relationships, particularly the bond between Harry, Ron, and Hermione. Their friendship is a testament to the power of love and loyalty, as they support and encourage each other through thick and thin. The series highlights the significance of trust, sacrifice, and loyalty, as the trio faces numerous challenges and overcomes incredible odds. The sacrifice of Sirius Black, for instance, has a profound impact on Harry's relationships, teaching him the value of love and the importance of holding onto those who care for him. The love story between Ron and Hermione, on the other hand, adds a new dimension to the series, showcasing the complexities of romantic relationships and the power of love to overcome even the most daunting challenges.\n\n**The Struggle between Good and Evil**\n\nThe Harry Potter series is a classic tale of good vs. evil, with Voldemort and his Death Eaters representing the darkest aspects of human nature. The series explores the complexities of morality, courage, and redemption, as the characters grapple with the nature of good and evil. Harry's struggle with his destiny and the temptation of power is a prime example of this, as he navigates the weight of his responsibilities and the danger of succumbing to the Dark Lord's influence. The character development of Severus Snape, who ultimately redeems himself through his love for Lily and his protection of Harry, is a powerful exploration of the human capacity for growth and transformation. The significance of the Horcruxes, on the other hand, serves as a reminder of the devastating consequences of evil and the importance of confronting and defeating it.\n\n**The Complexity of Human Nature**\n\nThe Harry Potter series is a rich exploration of the human condition, delving into the complexities of fear, anger, and the struggle for identity. The characters are multidimensional and relatable, with their own unique struggles and insecurities. Harry's insecurities, Ron's jealousy, and Hermione's perfectionism are just a few examples of the many complexities that make up the human experience. The series also explores the importance of self-discovery, growth, and transformation, as the characters navigate the challenges of adolescence and young adulthood. The character development of Luna Lovegood, who offers a unique perspective on the world, is a prime example of this, as she encourages the reader to think outside the box and challenge their assumptions.\n\n**Conclusion**\n\nThe Harry Potter series is a masterpiece of modern literature that continues to captivate readers of all ages. Through its exploration of the complexities of human nature, the power of love and friendship, and the struggle between good and evil, the series creates a world that is both magical and profoundly relatable. As we reflect on the enduring impact of the series, we are reminded of the importance of love, loyalty, and the human capacity for growth and transformation. The Harry Potter series is a testament to the power of storytelling and the enduring relevance of its themes in modern society. As we continue to navigate the complexities of our own world, the lessons of Harry Potter remain a powerful reminder of the importance of empathy, compassion, and the human spirit."
          },
          "metadata": {},
          "execution_count": 31
        }
      ],
      "source": [
        "Markdown(results[2][\"generate\"][\"draft\"])"
      ]
    },
    {
      "cell_type": "markdown",
      "id": "01608ff0-4a6c-4cc1-bdbe-c45628bad75f",
      "metadata": {
        "id": "01608ff0-4a6c-4cc1-bdbe-c45628bad75f"
      },
      "source": [
        "### Reflect critique for Draft"
      ]
    },
    {
      "cell_type": "code",
      "execution_count": 32,
      "id": "843f822b-2322-4d34-95eb-9d636fd0ed6f",
      "metadata": {
        "id": "843f822b-2322-4d34-95eb-9d636fd0ed6f",
        "outputId": "3ea1544d-8fd8-4996-b1ea-d4faed952dd9",
        "colab": {
          "base_uri": "https://localhost:8080/",
          "height": 825
        }
      },
      "outputs": [
        {
          "output_type": "execute_result",
          "data": {
            "text/plain": [
              "<IPython.core.display.Markdown object>"
            ],
            "text/markdown": "**Overall Assessment**\n\nYour essay provides a comprehensive and engaging analysis of the Harry Potter series, exploring its themes, characters, and symbolism. You have successfully demonstrated a deep understanding of the series and its impact on readers worldwide. Your writing is clear, concise, and well-organized, making it easy to follow and understand.\n\n**Strengths**\n\n1. **Clear Structure**: Your essay follows a logical structure, with each section exploring a specific theme or aspect of the series.\n2. **Engaging Writing Style**: Your writing is engaging, and you have used vivid language to describe the series and its characters.\n3. **Depth of Analysis**: You have provided a thorough analysis of the series, exploring its themes, characters, and symbolism in depth.\n4. **Use of Examples**: You have effectively used examples from the series to support your arguments, making your analysis more convincing and relatable.\n\n**Areas for Improvement**\n\n1. **Transitions and Connections**: While your essay is well-structured, there are moments where the transitions between sections feel a bit abrupt. Consider adding more transitional phrases or sentences to connect your ideas more smoothly.\n2. **Depth of Analysis in Some Sections**: While your analysis is thorough in some sections, it feels a bit superficial in others. Consider delving deeper into the themes and characters, exploring their complexities and nuances.\n3. **Use of Quotes and Evidence**: While you have used examples from the series, consider incorporating more quotes and evidence to support your arguments. This will add more depth and credibility to your analysis.\n4. **Conclusion**: While your conclusion is a good summary of your main points, it feels a bit repetitive. Consider adding more depth and analysis to your conclusion, exploring the broader implications of the series and its themes.\n\n**Specific Suggestions**\n\n1. **Use more nuanced language**: While your writing is clear and concise, consider using more nuanced language to describe the series and its themes. This will add more depth and complexity to your analysis.\n2. **Explore the series' cultural significance**: Consider exploring the series' cultural significance, discussing how it reflects and shapes societal attitudes towards love, friendship, and good vs. evil.\n3. **Analyze the series' use of symbolism**: Consider analyzing the series' use of symbolism, exploring how it adds depth and complexity to the narrative.\n4. **Discuss the series' impact on readers**: Consider discussing the series' impact on readers, exploring how it has influenced their perspectives on love, friendship, and good vs. evil.\n\n**Tone and Voice**\n\nYour tone and voice are engaging and enthusiastic, reflecting your passion for the series. However, consider toning down your language in some sections, as it feels a bit too effusive at times. A more measured tone will add more credibility to your analysis.\n\n**Missing Elements**\n\n1. **More nuanced analysis of the series' themes**: While your analysis is thorough, consider exploring the series' themes in more depth, exploring their complexities and nuances.\n2. **More discussion of the series' cultural significance**: Consider discussing the series' cultural significance, exploring how it reflects and shapes societal attitudes towards love, friendship, and good vs. evil.\n3. **More analysis of the series' use of symbolism**: Consider analyzing the series' use of symbolism, exploring how it adds depth and complexity to the narrative.\n\nOverall, your essay provides a comprehensive and engaging analysis of the Harry Potter series. With some revisions to address the areas for improvement, it has the potential to be a truly outstanding essay."
          },
          "metadata": {},
          "execution_count": 32
        }
      ],
      "source": [
        "Markdown(results[3][\"reflect\"][\"critique\"])"
      ]
    },
    {
      "cell_type": "code",
      "execution_count": 33,
      "id": "67759138-9fcb-4f9f-a80d-99b09318df31",
      "metadata": {
        "colab": {
          "base_uri": "https://localhost:8080/"
        },
        "id": "67759138-9fcb-4f9f-a80d-99b09318df31",
        "outputId": "aec96953-26eb-4c0f-bc02-af39ea9b8965"
      },
      "outputs": [
        {
          "output_type": "stream",
          "name": "stdout",
          "text": [
            "The findings showed that J. K. Rowling mostly used compound complex, declarative, simple past, and active voice. The transformed sentences were mostly composed\n",
            "---------\n",
            "possesses a talent for creating complex and fallible characters who make her books comparable to those of other literary greats. Rowling's use of complicated characters and literary devices not only set her apart from many of her contemporaries, but also places her among a canon of great authors who use these same techniques to make their works more literary. On the surface, Rowling's series may appear to serve a purely entertaining purpose, but Rowling has created a layered narrative that [...] story more satirical. Rowling takes the commonly recognized stereotype of competitive academics and exaggerates it, making her characters so competitive that it is sometimes laughable. For example, in Book Two, 39 Chamber of Secrets, Snape embarrasses Professor Lockhart, a man known for his inflated ego and boastful exaggerations, during a dueling demonstration, amusing students and readers alike (190). This technique not only makes her writing more entertaining, it also adds to the overall [...] treatment of Harry functions as the 41 antithesis of the way Harry will be treated for the majority of the series, telling Harry and his readers that the Wizarding world is where he really belongs. Another example of this occurs in one of Rowling's most hyperbolic characters: Rubeus Hagrid, whose mother was a giantess (Order of the Phoenix 691). Hagrid is Harry's introduction to the magical world in Book One, Sorcerer's Stone, and his presence certainly makes an impact due to his immense size\n",
            "---------\n",
            "The enormous popularity of the Harry Potter books points to the deep resonance readers feel with the psychological issues they bring to life. Three developmental issues provide central themes: the necessity for partial disenchantment and increasing attunement to reality, while retaining a capacity for wonder; repudiation or endorsement of the narcissistic solution to life's difficulties; and aggression and castration fantasies while growing into adult power. These developmental issues are [...] are among such literature. Common object relations themes, as well as other intrapsychic processes, are presented in such an imaginative and resonant way that the unconscious is readily engaged. The character of Harry Potter, specifically, embodies such universal (repressed) torments as the agony of destroying and losing the mother; the ominous perception of good and bad objects at war within the self; and the earnest reparative efforts offered to save the self from eternal separation from the [...] <p>The period from 1880 to 1900 is regarded as the period of \"spoilation\" of western rangelands. In Albert <span class=\"hlt\">Potters</span> own words, \"Quick profits and fortunes lead to speculation and incredible numbers of stock were placed upon the range. Cowman was arrayed against sheep man, big owners against small, and might ruled more often than right.\" The Government...</p>\r\n",
            "      </li>\r\n",
            "\r\n",
            "      </ol>  \r\n",
            "       <div class=\"pull-right\">\r\n",
            "          <ul class=\"pagination\">\n",
            "---------\n",
            "by M Gymnich · 2017 · Cited by 2 — ... themes to the Harry Potter series, it can also be seen that fears and anxieties connected to Voldemort's actions influence the plot of Harry Potter and the\n",
            "---------\n",
            "3. The study will focus on analysing the personality of only three characters in the series: Harry Potter, Lord Voldemort and Severus Snape.\n",
            "4. The study analyzes all the seven books of the series but with limitations. The study’s main concern will be to study the instances and scenes that show the development of the characters and the occurrence of abuse and its types and effects in the series.\n",
            "1.7. [...] series contains other heroes, such as Snape, besides Harry as the main hero, and there are many antiheroes, too. Some of the heroes do not remain as heroes throughout the series, and some of the antiheroes turn to be heroes, thus, it is important to study the heroes and antiheroes progressively throughout the Harry Potter series and to examine how abuse may change their personalities and attitudes. Furthermore, the current study will examine the chronological development of the characters from [...] 10 On the other hand, the Harry Potter series has been studied as a representative of the fairytale and archetypal hero by analyzing Harry’s character mainly without giving the same attention to other characters in the series such as the antiheroes and the villains.\n",
            "---------\n",
            "fun of people who are propelled forward in life by the desire for status among the affluent. Doing so Rowling creates a schisma between muggles and wizards. Seen through its exponents, the Dursleys, mugglekind becomes not only embarrassingly stupid, but also immoral as we see them elevate status to a life goal. The wizard family we get to know the best in the series, the Weasleys, stand out as morally upright. Unlike the Dursleys they are not concerned about fitting in or being “normal” and [...] they do not go to great lengths to distance themselves from “abnormal” people. The Weasley home is warm and welcoming. In sharp contrast to Vernon Dursley, Arthur Weasley is not status-oriented. In fact, he is happy to keep one of the most looked down upon positions at the Ministry of Magic. Arthur‟s expertise is muggle artifacts and relations. While Vernon has done all in his power to conceal his relation with wizard nephew Harry, Arthur has raised 20 his family to be proud “blood-traitors,” [...] torture, harassment and eventually death. Hitler was part Jew and Voldemort, the son of a muggle, Tom Riddle, is not pureblood. Abandoned by his mother at an orphanage as a baby, family is unimportant to Voldemort who has steadily grown more selfish and evil. Power and control are what Voldemort seeks. For Voldemort‟s followers family is important. Only a pure family record can secure status and safety in the group. Two families are particularly prominent, the Black‟s and the Malfoy‟s, both\n",
            "---------\n",
            "... good฀verse฀evil. Living฀Together฀in฀the฀Harry฀Potter฀Series Just฀as฀in฀the฀case฀of฀virtue,฀complete฀friendship฀cannot฀exist฀ without฀ the฀ active฀ condition\n",
            "---------\n",
            "Harry as the hero is portrayed as a force of good while his enemy Voldemort is the epitome of evil. A light is shed on these aspects of Harry and Voldemort, and\n",
            "---------\n",
            "Este artículo analiza la voz narrativa y la presencia de elementos metatextuales y metaficcionales en las novelas de la saga Harry Potter (1997-2007).\n",
            "---------\n",
            "The following graphic illustrates the analysis with the character feature for the book Harry Potter and the Philosopher's Stone . Each row represents one\n",
            "---------\n",
            "The series explores complex themes of good versus evil, love, loss ... Studies of the benefits of reading are extensive, and the effects of this series, in\n",
            "---------\n",
            "Love protects Harry from evil on numerous occasions ... might of love in the fight against evil, the importance of good family and friends,.\n",
            "---------\n"
          ]
        }
      ],
      "source": [
        "for content in results[4][\"research_critique\"][\"content\"]:\n",
        "    print(content)\n",
        "    print(\"---------\")"
      ]
    },
    {
      "cell_type": "markdown",
      "id": "d535877b-ae02-4055-9c93-e26370b08307",
      "metadata": {
        "id": "d535877b-ae02-4055-9c93-e26370b08307"
      },
      "source": [
        "#### Final Answer"
      ]
    },
    {
      "cell_type": "code",
      "execution_count": 34,
      "id": "678c723b-ffe3-4130-91ff-eeeb54180dab",
      "metadata": {
        "colab": {
          "base_uri": "https://localhost:8080/",
          "height": 830
        },
        "id": "678c723b-ffe3-4130-91ff-eeeb54180dab",
        "outputId": "6787cef9-616c-4ae6-a920-ec31947feb9c"
      },
      "outputs": [
        {
          "output_type": "execute_result",
          "data": {
            "text/plain": [
              "<IPython.core.display.Markdown object>"
            ],
            "text/markdown": "**The Enchanted World of Harry Potter: A Masterpiece of Modern Literature**\n\nJ.K. Rowling's Harry Potter series has captivated the hearts of millions of readers worldwide, transporting them to a magical world of wonder and awe. As the most beloved and enduring series of the 21st century, Harry Potter has not only become a cultural phenomenon but also a rich tapestry of themes, characters, and symbolism that continue to resonate with readers of all ages. Through the series, Rowling explores the complexities of human nature, the power of love and friendship, and the struggle between good and evil, ultimately creating a world that is both magical and profoundly relatable.\n\n**The Power of Love and Friendship**\n\nAt the heart of the Harry Potter series lies the importance of relationships, particularly the bond between Harry, Ron, and Hermione. Their friendship is a testament to the power of love and loyalty, as they support each other through thick and thin, facing challenges that would break even the strongest of individuals. The symbolism of love and friendship in the series is evident in the importance of loyalty, trust, and sacrifice. For example, the sacrifice of Sirius Black and the impact on Harry's relationships serve as a poignant reminder of the depth of their bond. Similarly, the love story between Ron and Hermione is a significant aspect of the series, as it highlights the importance of trust, communication, and mutual support in relationships.\n\nThe friendship between Harry, Ron, and Hermione is a shining example of the power of love and friendship in the series. In the first book, they form an unbreakable bond, which is tested and strengthened throughout the series. Their relationships are not limited to each other; they also extend to other characters, such as Luna Lovegood, who becomes a source of comfort and support for Harry. The love story between Ron and Hermione is a beautiful example of how love can conquer even the most daunting challenges. Their relationship is built on trust, communication, and mutual support, making it a powerful symbol of the importance of love and friendship in the series.\n\n**The Struggle between Good and Evil**\n\nThe Harry Potter series is a classic tale of good vs. evil, with the main antagonists, Voldemort, Draco Malfoy, and the Death Eaters, representing the dark forces that seek to destroy the wizarding world. The series explores the complexities of good and evil, as the characters grapple with the nature of morality, courage, and redemption. Harry's struggle with his destiny and the temptation of power is a prime example of the series' exploration of the human condition. The character development of Severus Snape is another significant aspect of the series, as he undergoes a transformation from a bitter and isolated individual to a redeemed and selfless hero.\n\nThe symbolism of good and evil in the series is evident in the importance of morality, courage, and redemption. The Horcruxes, which are the key to Voldemort's immortality, serve as a powerful symbol of the destructive nature of evil. The ultimate defeat of Voldemort is a testament to the power of good, as the characters come together to defeat the Dark Lord and restore peace to the wizarding world. The series also explores the complexities of human nature, as the characters grapple with their own moral ambiguities and the consequences of their actions.\n\n**The Complexity of Human Nature**\n\nThe Harry Potter series is a rich tapestry of complex characters, each with their own unique personality, struggles, and motivations. Harry's insecurities, Ron's jealousy, and Hermione's perfectionism are just a few examples of the complexities of human nature that are explored in the series. The series also explores the human condition, as the characters face fear, anger, and the struggle for identity. The character development of Luna Lovegood is a beautiful example of how the series explores the complexities of human nature. Her unique perspective on the world and her unwavering optimism serve as a powerful reminder of the importance of self-discovery, growth, and transformation.\n\nThe series also explores mental health and trauma, as Harry's PTSD and Ginny's anxiety serve as a poignant reminder of the impact of trauma on individuals and communities. The wizarding world's treatment of non-human magical creatures is another significant aspect of the series, as it highlights the importance of empathy, compassion, and understanding. The series also explores the complexities of power and corruption, as the characters grapple with the consequences of their actions and the impact of their decisions on others.\n\n**Conclusion**\n\nIn conclusion, the Harry Potter series is a masterpiece of modern literature that explores the complexities of human nature, the power of love and friendship, and the struggle between good and evil. Through the series, Rowling creates a world that is both magical and profoundly relatable, as the characters face challenges that are both fantastical and universally human. The series' exploration of the human condition, its symbolism of love and friendship, and its portrayal of the struggle between good and evil make it a timeless classic that continues to captivate readers of all ages. As we reflect on the enduring impact of the Harry Potter series, we are reminded of the power of literature to inspire, educate, and transform us."
          },
          "metadata": {},
          "execution_count": 34
        }
      ],
      "source": [
        "Markdown(results[-1][\"generate\"][\"draft\"])"
      ]
    }
  ],
  "metadata": {
    "kernelspec": {
      "display_name": "Python 3 (ipykernel)",
      "language": "python",
      "name": "python3"
    },
    "language_info": {
      "codemirror_mode": {
        "name": "ipython",
        "version": 3
      },
      "file_extension": ".py",
      "mimetype": "text/x-python",
      "name": "python",
      "nbconvert_exporter": "python",
      "pygments_lexer": "ipython3",
      "version": "3.11.2"
    },
    "colab": {
      "provenance": []
    }
  },
  "nbformat": 4,
  "nbformat_minor": 5
}